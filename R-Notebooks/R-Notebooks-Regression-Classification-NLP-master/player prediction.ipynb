{
 "cells": [
  {
   "cell_type": "code",
   "execution_count": 1,
   "metadata": {},
   "outputs": [
    {
     "data": {
      "text/html": [
       "<table>\n",
       "<thead><tr><th scope=col>name</th><th scope=col>club</th><th scope=col>age</th><th scope=col>position</th><th scope=col>position_cat</th><th scope=col>market_value</th><th scope=col>page_views</th><th scope=col>fpl_value</th><th scope=col>fpl_sel</th><th scope=col>fpl_points</th><th scope=col>region</th><th scope=col>nationality</th><th scope=col>new_foreign</th><th scope=col>age_cat</th><th scope=col>club_id</th><th scope=col>big_club</th><th scope=col>new_signing</th></tr></thead>\n",
       "<tbody>\n",
       "\t<tr><td>Alexis Sanchez   </td><td>Arsenal          </td><td>28               </td><td>LW               </td><td>1                </td><td>65               </td><td>4329             </td><td>12.0             </td><td>17.10%           </td><td>264              </td><td>3                </td><td>Chile            </td><td>0                </td><td>4                </td><td>1                </td><td>1                </td><td>0                </td></tr>\n",
       "\t<tr><td>Mesut Ozil       </td><td>Arsenal          </td><td>28               </td><td>AM               </td><td>1                </td><td>50               </td><td>4395             </td><td> 9.5             </td><td>5.60%            </td><td>167              </td><td>2                </td><td>Germany          </td><td>0                </td><td>4                </td><td>1                </td><td>1                </td><td>0                </td></tr>\n",
       "\t<tr><td>Petr Cech        </td><td>Arsenal          </td><td>35               </td><td>GK               </td><td>4                </td><td> 7               </td><td>1529             </td><td> 5.5             </td><td>5.90%            </td><td>134              </td><td>2                </td><td>Czech Republic   </td><td>0                </td><td>6                </td><td>1                </td><td>1                </td><td>0                </td></tr>\n",
       "\t<tr><td>Theo Walcott     </td><td>Arsenal          </td><td>28               </td><td>RW               </td><td>1                </td><td>20               </td><td>2393             </td><td> 7.5             </td><td>1.50%            </td><td>122              </td><td>1                </td><td>England          </td><td>0                </td><td>4                </td><td>1                </td><td>1                </td><td>0                </td></tr>\n",
       "\t<tr><td>Laurent Koscielny</td><td>Arsenal          </td><td>31               </td><td>CB               </td><td>3                </td><td>22               </td><td> 912             </td><td> 6.0             </td><td>0.70%            </td><td>121              </td><td>2                </td><td>France           </td><td>0                </td><td>4                </td><td>1                </td><td>1                </td><td>0                </td></tr>\n",
       "\t<tr><td>Hector Bellerin  </td><td>Arsenal          </td><td>22               </td><td>RB               </td><td>3                </td><td>30               </td><td>1675             </td><td> 6.0             </td><td>13.70%           </td><td>119              </td><td>2                </td><td>Spain            </td><td>0                </td><td>2                </td><td>1                </td><td>1                </td><td>0                </td></tr>\n",
       "</tbody>\n",
       "</table>\n"
      ],
      "text/latex": [
       "\\begin{tabular}{r|lllllllllllllllll}\n",
       " name & club & age & position & position\\_cat & market\\_value & page\\_views & fpl\\_value & fpl\\_sel & fpl\\_points & region & nationality & new\\_foreign & age\\_cat & club\\_id & big\\_club & new\\_signing\\\\\n",
       "\\hline\n",
       "\t Alexis Sanchez    & Arsenal           & 28                & LW                & 1                 & 65                & 4329              & 12.0              & 17.10\\%          & 264               & 3                 & Chile             & 0                 & 4                 & 1                 & 1                 & 0                \\\\\n",
       "\t Mesut Ozil        & Arsenal           & 28                & AM                & 1                 & 50                & 4395              &  9.5              & 5.60\\%           & 167               & 2                 & Germany           & 0                 & 4                 & 1                 & 1                 & 0                \\\\\n",
       "\t Petr Cech         & Arsenal           & 35                & GK                & 4                 &  7                & 1529              &  5.5              & 5.90\\%           & 134               & 2                 & Czech Republic    & 0                 & 6                 & 1                 & 1                 & 0                \\\\\n",
       "\t Theo Walcott      & Arsenal           & 28                & RW                & 1                 & 20                & 2393              &  7.5              & 1.50\\%           & 122               & 1                 & England           & 0                 & 4                 & 1                 & 1                 & 0                \\\\\n",
       "\t Laurent Koscielny & Arsenal           & 31                & CB                & 3                 & 22                &  912              &  6.0              & 0.70\\%           & 121               & 2                 & France            & 0                 & 4                 & 1                 & 1                 & 0                \\\\\n",
       "\t Hector Bellerin   & Arsenal           & 22                & RB                & 3                 & 30                & 1675              &  6.0              & 13.70\\%          & 119               & 2                 & Spain             & 0                 & 2                 & 1                 & 1                 & 0                \\\\\n",
       "\\end{tabular}\n"
      ],
      "text/markdown": [
       "\n",
       "| name | club | age | position | position_cat | market_value | page_views | fpl_value | fpl_sel | fpl_points | region | nationality | new_foreign | age_cat | club_id | big_club | new_signing |\n",
       "|---|---|---|---|---|---|---|---|---|---|---|---|---|---|---|---|---|\n",
       "| Alexis Sanchez    | Arsenal           | 28                | LW                | 1                 | 65                | 4329              | 12.0              | 17.10%            | 264               | 3                 | Chile             | 0                 | 4                 | 1                 | 1                 | 0                 |\n",
       "| Mesut Ozil        | Arsenal           | 28                | AM                | 1                 | 50                | 4395              |  9.5              | 5.60%             | 167               | 2                 | Germany           | 0                 | 4                 | 1                 | 1                 | 0                 |\n",
       "| Petr Cech         | Arsenal           | 35                | GK                | 4                 |  7                | 1529              |  5.5              | 5.90%             | 134               | 2                 | Czech Republic    | 0                 | 6                 | 1                 | 1                 | 0                 |\n",
       "| Theo Walcott      | Arsenal           | 28                | RW                | 1                 | 20                | 2393              |  7.5              | 1.50%             | 122               | 1                 | England           | 0                 | 4                 | 1                 | 1                 | 0                 |\n",
       "| Laurent Koscielny | Arsenal           | 31                | CB                | 3                 | 22                |  912              |  6.0              | 0.70%             | 121               | 2                 | France            | 0                 | 4                 | 1                 | 1                 | 0                 |\n",
       "| Hector Bellerin   | Arsenal           | 22                | RB                | 3                 | 30                | 1675              |  6.0              | 13.70%            | 119               | 2                 | Spain             | 0                 | 2                 | 1                 | 1                 | 0                 |\n",
       "\n"
      ],
      "text/plain": [
       "  name              club    age position position_cat market_value page_views\n",
       "1 Alexis Sanchez    Arsenal 28  LW       1            65           4329      \n",
       "2 Mesut Ozil        Arsenal 28  AM       1            50           4395      \n",
       "3 Petr Cech         Arsenal 35  GK       4             7           1529      \n",
       "4 Theo Walcott      Arsenal 28  RW       1            20           2393      \n",
       "5 Laurent Koscielny Arsenal 31  CB       3            22            912      \n",
       "6 Hector Bellerin   Arsenal 22  RB       3            30           1675      \n",
       "  fpl_value fpl_sel fpl_points region nationality    new_foreign age_cat\n",
       "1 12.0      17.10%  264        3      Chile          0           4      \n",
       "2  9.5      5.60%   167        2      Germany        0           4      \n",
       "3  5.5      5.90%   134        2      Czech Republic 0           6      \n",
       "4  7.5      1.50%   122        1      England        0           4      \n",
       "5  6.0      0.70%   121        2      France         0           4      \n",
       "6  6.0      13.70%  119        2      Spain          0           2      \n",
       "  club_id big_club new_signing\n",
       "1 1       1        0          \n",
       "2 1       1        0          \n",
       "3 1       1        0          \n",
       "4 1       1        0          \n",
       "5 1       1        0          \n",
       "6 1       1        0          "
      ]
     },
     "metadata": {},
     "output_type": "display_data"
    }
   ],
   "source": [
    "df <- read.csv('C:\\\\Users\\\\520\\\\Downloads\\\\epldata_final.csv')\n",
    "head(df)"
   ]
  },
  {
   "cell_type": "code",
   "execution_count": 2,
   "metadata": {},
   "outputs": [
    {
     "name": "stderr",
     "output_type": "stream",
     "text": [
      "Installing package into 'C:/Users/520/Documents/R/win-library/3.6'\n",
      "(as 'lib' is unspecified)\n"
     ]
    },
    {
     "name": "stdout",
     "output_type": "stream",
     "text": [
      "package 'Amelia' successfully unpacked and MD5 sums checked\n"
     ]
    },
    {
     "name": "stderr",
     "output_type": "stream",
     "text": [
      "Warning message:\n",
      "\"cannot remove prior installation of package 'Amelia'\"Warning message in file.copy(savedcopy, lib, recursive = TRUE):\n",
      "\"problem copying C:\\Users\\520\\Documents\\R\\win-library\\3.6\\00LOCK\\Amelia\\libs\\x64\\Amelia.dll to C:\\Users\\520\\Documents\\R\\win-library\\3.6\\Amelia\\libs\\x64\\Amelia.dll: Permission denied\"Warning message:\n",
      "\"restored 'Amelia'\""
     ]
    },
    {
     "name": "stdout",
     "output_type": "stream",
     "text": [
      "\n",
      "The downloaded binary packages are in\n",
      "\tC:\\Users\\520\\AppData\\Local\\Temp\\Rtmp2dQOtx\\downloaded_packages\n"
     ]
    },
    {
     "name": "stderr",
     "output_type": "stream",
     "text": [
      "Warning message:\n",
      "\"package 'Amelia' was built under R version 3.6.3\"Loading required package: Rcpp\n",
      "## \n",
      "## Amelia II: Multiple Imputation\n",
      "## (Version 1.7.6, built: 2019-11-24)\n",
      "## Copyright (C) 2005-2020 James Honaker, Gary King and Matthew Blackwell\n",
      "## Refer to http://gking.harvard.edu/amelia/ for more information\n",
      "## \n"
     ]
    },
    {
     "data": {
      "image/png": "[encoded data removed]",
      "text/plain": [
       "Plot with title \"Players\""
      ]
     },
     "metadata": {},
     "output_type": "display_data"
    }
   ],
   "source": [
    "#here i am trying to predict the market values of the players\n",
    "#finding if there are any missing values\n",
    "install.packages('Amelia')\n",
    "library(Amelia)\n",
    "missmap(df, main=\"Players\",\n",
    " col=c(\"yellow\", \"black\"), legend=FALSE)\n"
   ]
  },
  {
   "cell_type": "code",
   "execution_count": 3,
   "metadata": {},
   "outputs": [
    {
     "data": {
      "text/html": [
       "TRUE"
      ],
      "text/latex": [
       "TRUE"
      ],
      "text/markdown": [
       "TRUE"
      ],
      "text/plain": [
       "[1] TRUE"
      ]
     },
     "metadata": {},
     "output_type": "display_data"
    }
   ],
   "source": [
    "#since there is only on missing value i am replacing it with zero\n",
    "any(is.na(df))\n",
    "df[is.na(df)]=0"
   ]
  },
  {
   "cell_type": "code",
   "execution_count": 4,
   "metadata": {},
   "outputs": [
    {
     "data": {
      "image/png": "[encoded data removed]",
      "text/plain": [
       "Plot with title \"players\""
      ]
     },
     "metadata": {},
     "output_type": "display_data"
    }
   ],
   "source": [
    "missmap(df, main=\"players\",\n",
    " col=c(\"yellow\", \"black\"), legend=FALSE)\n",
    "\n",
    "#now there is no missing data "
   ]
  },
  {
   "cell_type": "code",
   "execution_count": 5,
   "metadata": {
    "scrolled": true
   },
   "outputs": [
    {
     "data": {
      "text/plain": [
       "                      name                    club          age      \n",
       " Ã…Â\\201ukasz FabiaÃ…â\\200žski:  1   Arsenal          : 28   Min.   :17.0  \n",
       " Aaron Cresswell        :  1   Everton          : 28   1st Qu.:24.0  \n",
       " Aaron Lennon           :  1   Huddersfield     : 28   Median :27.0  \n",
       " Aaron Mooy             :  1   Liverpool        : 27   Mean   :26.8  \n",
       " Aaron Ramsey           :  1   Manchester+United: 25   3rd Qu.:30.0  \n",
       " Abdoulaye Doucoure     :  1   Swansea          : 25   Max.   :38.0  \n",
       " (Other)                :455   (Other)          :300                 \n",
       "    position    position_cat   market_value     page_views       fpl_value     \n",
       " CB     : 85   Min.   :1.00   Min.   : 0.05   Min.   :   3.0   Min.   : 4.000  \n",
       " CM     : 63   1st Qu.:1.00   1st Qu.: 3.00   1st Qu.: 220.0   1st Qu.: 4.500  \n",
       " CF     : 61   Median :2.00   Median : 7.00   Median : 460.0   Median : 5.000  \n",
       " GK     : 42   Mean   :2.18   Mean   :11.01   Mean   : 763.8   Mean   : 5.448  \n",
       " DM     : 36   3rd Qu.:3.00   3rd Qu.:15.00   3rd Qu.: 896.0   3rd Qu.: 5.500  \n",
       " LW     : 36   Max.   :4.00   Max.   :75.00   Max.   :7664.0   Max.   :12.500  \n",
       " (Other):138                                                                   \n",
       "    fpl_sel      fpl_points         region           nationality \n",
       " 0.10%  : 64   Min.   :  0.00   Min.   :0.000   England    :156  \n",
       " 0.20%  : 41   1st Qu.:  5.00   1st Qu.:1.000   Spain      : 28  \n",
       " 0.40%  : 30   Median : 51.00   Median :2.000   France     : 25  \n",
       " 0.30%  : 25   Mean   : 57.31   Mean   :1.989   Netherlands: 20  \n",
       " 0.60%  : 15   3rd Qu.: 94.00   3rd Qu.:2.000   Belgium    : 18  \n",
       " 0.00%  : 14   Max.   :264.00   Max.   :4.000   Argentina  : 17  \n",
       " (Other):272                                    (Other)    :197  \n",
       "  new_foreign         age_cat         club_id         big_club     \n",
       " Min.   :0.00000   Min.   :1.000   Min.   : 1.00   Min.   :0.0000  \n",
       " 1st Qu.:0.00000   1st Qu.:2.000   1st Qu.: 6.00   1st Qu.:0.0000  \n",
       " Median :0.00000   Median :3.000   Median :10.00   Median :0.0000  \n",
       " Mean   :0.03471   Mean   :3.206   Mean   :10.33   Mean   :0.3037  \n",
       " 3rd Qu.:0.00000   3rd Qu.:4.000   3rd Qu.:15.00   3rd Qu.:1.0000  \n",
       " Max.   :1.00000   Max.   :6.000   Max.   :20.00   Max.   :1.0000  \n",
       "                                                                   \n",
       "  new_signing    \n",
       " Min.   :0.0000  \n",
       " 1st Qu.:0.0000  \n",
       " Median :0.0000  \n",
       " Mean   :0.1453  \n",
       " 3rd Qu.:0.0000  \n",
       " Max.   :1.0000  \n",
       "                 "
      ]
     },
     "metadata": {},
     "output_type": "display_data"
    }
   ],
   "source": [
    "summary(df)"
   ]
  },
  {
   "cell_type": "code",
   "execution_count": 7,
   "metadata": {},
   "outputs": [
    {
     "data": {
      "image/png": "[encoded data removed]",
      "text/plain": [
       "plot without title"
      ]
     },
     "metadata": {},
     "output_type": "display_data"
    }
   ],
   "source": [
    "library(ggplot2)\n",
    "ggplot(df,aes(market_value)) + geom_histogram(aes(fill=position),color='black',bins=100)\n",
    "\n",
    "#here we can se that the Attacking medfeilders have highest market value this is obivous becuase a mid feilder is like the heart of the team "
   ]
  },
  {
   "cell_type": "code",
   "execution_count": 8,
   "metadata": {},
   "outputs": [
    {
     "data": {
      "image/png": "[encoded data removed]",
      "text/plain": [
       "plot without title"
      ]
     },
     "metadata": {},
     "output_type": "display_data"
    }
   ],
   "source": [
    "ggplot(df,aes(age)) + geom_histogram(aes(fill=market_value),color='black',bins=10)\n",
    "\n",
    "#here we can see that player between the age of 20-28 have a high market value and player below 20 and baove 30 have a low market value"
   ]
  },
  {
   "cell_type": "code",
   "execution_count": 9,
   "metadata": {},
   "outputs": [
    {
     "name": "stderr",
     "output_type": "stream",
     "text": [
      "Warning message:\n",
      "\"package 'caTools' was built under R version 3.6.2\""
     ]
    }
   ],
   "source": [
    "library(caTools)\n",
    "set.seed(101)\n",
    "sample = sample.split(df$market_value, SplitRatio = .70)\n",
    "train = subset(df, sample == TRUE)\n",
    "test = subset(df, sample == FALSE)"
   ]
  },
  {
   "cell_type": "code",
   "execution_count": 33,
   "metadata": {},
   "outputs": [
    {
     "data": {
      "text/html": [
       "<dl class=dl-horizontal>\n",
       "\t<dt>name</dt>\n",
       "\t\t<dd>FALSE</dd>\n",
       "\t<dt>club</dt>\n",
       "\t\t<dd>FALSE</dd>\n",
       "\t<dt>age</dt>\n",
       "\t\t<dd>TRUE</dd>\n",
       "\t<dt>position</dt>\n",
       "\t\t<dd>FALSE</dd>\n",
       "\t<dt>position_cat</dt>\n",
       "\t\t<dd>TRUE</dd>\n",
       "\t<dt>market_value</dt>\n",
       "\t\t<dd>TRUE</dd>\n",
       "\t<dt>page_views</dt>\n",
       "\t\t<dd>TRUE</dd>\n",
       "\t<dt>fpl_value</dt>\n",
       "\t\t<dd>TRUE</dd>\n",
       "\t<dt>fpl_sel</dt>\n",
       "\t\t<dd>FALSE</dd>\n",
       "\t<dt>fpl_points</dt>\n",
       "\t\t<dd>TRUE</dd>\n",
       "\t<dt>region</dt>\n",
       "\t\t<dd>TRUE</dd>\n",
       "\t<dt>nationality</dt>\n",
       "\t\t<dd>FALSE</dd>\n",
       "\t<dt>new_foreign</dt>\n",
       "\t\t<dd>TRUE</dd>\n",
       "\t<dt>age_cat</dt>\n",
       "\t\t<dd>TRUE</dd>\n",
       "\t<dt>club_id</dt>\n",
       "\t\t<dd>TRUE</dd>\n",
       "\t<dt>big_club</dt>\n",
       "\t\t<dd>TRUE</dd>\n",
       "\t<dt>new_signing</dt>\n",
       "\t\t<dd>TRUE</dd>\n",
       "</dl>\n"
      ],
      "text/latex": [
       "\\begin{description*}\n",
       "\\item[name] FALSE\n",
       "\\item[club] FALSE\n",
       "\\item[age] TRUE\n",
       "\\item[position] FALSE\n",
       "\\item[position\\textbackslash{}\\_cat] TRUE\n",
       "\\item[market\\textbackslash{}\\_value] TRUE\n",
       "\\item[page\\textbackslash{}\\_views] TRUE\n",
       "\\item[fpl\\textbackslash{}\\_value] TRUE\n",
       "\\item[fpl\\textbackslash{}\\_sel] FALSE\n",
       "\\item[fpl\\textbackslash{}\\_points] TRUE\n",
       "\\item[region] TRUE\n",
       "\\item[nationality] FALSE\n",
       "\\item[new\\textbackslash{}\\_foreign] TRUE\n",
       "\\item[age\\textbackslash{}\\_cat] TRUE\n",
       "\\item[club\\textbackslash{}\\_id] TRUE\n",
       "\\item[big\\textbackslash{}\\_club] TRUE\n",
       "\\item[new\\textbackslash{}\\_signing] TRUE\n",
       "\\end{description*}\n"
      ],
      "text/markdown": [
       "name\n",
       ":   FALSEclub\n",
       ":   FALSEage\n",
       ":   TRUEposition\n",
       ":   FALSEposition_cat\n",
       ":   TRUEmarket_value\n",
       ":   TRUEpage_views\n",
       ":   TRUEfpl_value\n",
       ":   TRUEfpl_sel\n",
       ":   FALSEfpl_points\n",
       ":   TRUEregion\n",
       ":   TRUEnationality\n",
       ":   FALSEnew_foreign\n",
       ":   TRUEage_cat\n",
       ":   TRUEclub_id\n",
       ":   TRUEbig_club\n",
       ":   TRUEnew_signing\n",
       ":   TRUE\n",
       "\n"
      ],
      "text/plain": [
       "        name         club          age     position position_cat market_value \n",
       "       FALSE        FALSE         TRUE        FALSE         TRUE         TRUE \n",
       "  page_views    fpl_value      fpl_sel   fpl_points       region  nationality \n",
       "        TRUE         TRUE        FALSE         TRUE         TRUE        FALSE \n",
       " new_foreign      age_cat      club_id     big_club  new_signing \n",
       "        TRUE         TRUE         TRUE         TRUE         TRUE "
      ]
     },
     "metadata": {},
     "output_type": "display_data"
    },
    {
     "data": {
      "text/html": [
       "<table>\n",
       "<thead><tr><th></th><th scope=col>age</th><th scope=col>position_cat</th><th scope=col>market_value</th><th scope=col>page_views</th><th scope=col>fpl_value</th><th scope=col>fpl_points</th><th scope=col>region</th><th scope=col>new_foreign</th><th scope=col>age_cat</th><th scope=col>club_id</th><th scope=col>big_club</th><th scope=col>new_signing</th></tr></thead>\n",
       "<tbody>\n",
       "\t<tr><th scope=row>age</th><td> 1.00</td><td> 0.17</td><td>-0.10</td><td>-0.01</td><td>-0.04</td><td> 0.21</td><td> 0.11</td><td>-0.13</td><td> 0.97</td><td>-0.07</td><td>-0.14</td><td>-0.10</td></tr>\n",
       "\t<tr><th scope=row>position_cat</th><td> 0.17</td><td> 1.00</td><td>-0.24</td><td>-0.32</td><td>-0.51</td><td>-0.18</td><td>-0.14</td><td> 0.01</td><td> 0.16</td><td>-0.07</td><td>-0.03</td><td>-0.10</td></tr>\n",
       "\t<tr><th scope=row>market_value</th><td>-0.10</td><td>-0.24</td><td> 1.00</td><td> 0.79</td><td> 0.81</td><td> 0.60</td><td> 0.18</td><td> 0.12</td><td>-0.09</td><td> 0.08</td><td> 0.64</td><td> 0.17</td></tr>\n",
       "\t<tr><th scope=row>page_views</th><td>-0.01</td><td>-0.32</td><td> 0.79</td><td> 1.00</td><td> 0.73</td><td> 0.56</td><td> 0.12</td><td>-0.03</td><td> 0.00</td><td> 0.02</td><td> 0.51</td><td> 0.19</td></tr>\n",
       "\t<tr><th scope=row>fpl_value</th><td>-0.04</td><td>-0.51</td><td> 0.81</td><td> 0.73</td><td> 1.00</td><td> 0.66</td><td> 0.19</td><td> 0.10</td><td> 0.00</td><td> 0.05</td><td> 0.47</td><td> 0.14</td></tr>\n",
       "\t<tr><th scope=row>fpl_points</th><td> 0.21</td><td>-0.18</td><td> 0.60</td><td> 0.56</td><td> 0.66</td><td> 1.00</td><td> 0.02</td><td>-0.24</td><td> 0.23</td><td> 0.11</td><td> 0.26</td><td> 0.11</td></tr>\n",
       "\t<tr><th scope=row>region</th><td> 0.11</td><td>-0.14</td><td> 0.18</td><td> 0.12</td><td> 0.19</td><td> 0.02</td><td> 1.00</td><td> 0.05</td><td> 0.13</td><td> 0.15</td><td> 0.14</td><td> 0.21</td></tr>\n",
       "\t<tr><th scope=row>new_foreign</th><td>-0.13</td><td> 0.01</td><td> 0.12</td><td>-0.03</td><td> 0.10</td><td>-0.24</td><td> 0.05</td><td> 1.00</td><td>-0.11</td><td>-0.10</td><td> 0.17</td><td>-0.09</td></tr>\n",
       "\t<tr><th scope=row>age_cat</th><td> 0.97</td><td> 0.16</td><td>-0.09</td><td> 0.00</td><td> 0.00</td><td> 0.23</td><td> 0.13</td><td>-0.11</td><td> 1.00</td><td>-0.08</td><td>-0.14</td><td>-0.12</td></tr>\n",
       "\t<tr><th scope=row>club_id</th><td>-0.07</td><td>-0.07</td><td> 0.08</td><td> 0.02</td><td> 0.05</td><td> 0.11</td><td> 0.15</td><td>-0.10</td><td>-0.08</td><td> 1.00</td><td>-0.03</td><td> 0.18</td></tr>\n",
       "\t<tr><th scope=row>big_club</th><td>-0.14</td><td>-0.03</td><td> 0.64</td><td> 0.51</td><td> 0.47</td><td> 0.26</td><td> 0.14</td><td> 0.17</td><td>-0.14</td><td>-0.03</td><td> 1.00</td><td> 0.05</td></tr>\n",
       "\t<tr><th scope=row>new_signing</th><td>-0.10</td><td>-0.10</td><td> 0.17</td><td> 0.19</td><td> 0.14</td><td> 0.11</td><td> 0.21</td><td>-0.09</td><td>-0.12</td><td> 0.18</td><td> 0.05</td><td> 1.00</td></tr>\n",
       "</tbody>\n",
       "</table>\n"
      ],
      "text/latex": [
       "\\begin{tabular}{r|llllllllllll}\n",
       "  & age & position\\_cat & market\\_value & page\\_views & fpl\\_value & fpl\\_points & region & new\\_foreign & age\\_cat & club\\_id & big\\_club & new\\_signing\\\\\n",
       "\\hline\n",
       "\tage &  1.00 &  0.17 & -0.10 & -0.01 & -0.04 &  0.21 &  0.11 & -0.13 &  0.97 & -0.07 & -0.14 & -0.10\\\\\n",
       "\tposition\\_cat &  0.17 &  1.00 & -0.24 & -0.32 & -0.51 & -0.18 & -0.14 &  0.01 &  0.16 & -0.07 & -0.03 & -0.10\\\\\n",
       "\tmarket\\_value & -0.10 & -0.24 &  1.00 &  0.79 &  0.81 &  0.60 &  0.18 &  0.12 & -0.09 &  0.08 &  0.64 &  0.17\\\\\n",
       "\tpage\\_views & -0.01 & -0.32 &  0.79 &  1.00 &  0.73 &  0.56 &  0.12 & -0.03 &  0.00 &  0.02 &  0.51 &  0.19\\\\\n",
       "\tfpl\\_value & -0.04 & -0.51 &  0.81 &  0.73 &  1.00 &  0.66 &  0.19 &  0.10 &  0.00 &  0.05 &  0.47 &  0.14\\\\\n",
       "\tfpl\\_points &  0.21 & -0.18 &  0.60 &  0.56 &  0.66 &  1.00 &  0.02 & -0.24 &  0.23 &  0.11 &  0.26 &  0.11\\\\\n",
       "\tregion &  0.11 & -0.14 &  0.18 &  0.12 &  0.19 &  0.02 &  1.00 &  0.05 &  0.13 &  0.15 &  0.14 &  0.21\\\\\n",
       "\tnew\\_foreign & -0.13 &  0.01 &  0.12 & -0.03 &  0.10 & -0.24 &  0.05 &  1.00 & -0.11 & -0.10 &  0.17 & -0.09\\\\\n",
       "\tage\\_cat &  0.97 &  0.16 & -0.09 &  0.00 &  0.00 &  0.23 &  0.13 & -0.11 &  1.00 & -0.08 & -0.14 & -0.12\\\\\n",
       "\tclub\\_id & -0.07 & -0.07 &  0.08 &  0.02 &  0.05 &  0.11 &  0.15 & -0.10 & -0.08 &  1.00 & -0.03 &  0.18\\\\\n",
       "\tbig\\_club & -0.14 & -0.03 &  0.64 &  0.51 &  0.47 &  0.26 &  0.14 &  0.17 & -0.14 & -0.03 &  1.00 &  0.05\\\\\n",
       "\tnew\\_signing & -0.10 & -0.10 &  0.17 &  0.19 &  0.14 &  0.11 &  0.21 & -0.09 & -0.12 &  0.18 &  0.05 &  1.00\\\\\n",
       "\\end{tabular}\n"
      ],
      "text/markdown": [
       "\n",
       "| <!--/--> | age | position_cat | market_value | page_views | fpl_value | fpl_points | region | new_foreign | age_cat | club_id | big_club | new_signing |\n",
       "|---|---|---|---|---|---|---|---|---|---|---|---|---|\n",
       "| age |  1.00 |  0.17 | -0.10 | -0.01 | -0.04 |  0.21 |  0.11 | -0.13 |  0.97 | -0.07 | -0.14 | -0.10 |\n",
       "| position_cat |  0.17 |  1.00 | -0.24 | -0.32 | -0.51 | -0.18 | -0.14 |  0.01 |  0.16 | -0.07 | -0.03 | -0.10 |\n",
       "| market_value | -0.10 | -0.24 |  1.00 |  0.79 |  0.81 |  0.60 |  0.18 |  0.12 | -0.09 |  0.08 |  0.64 |  0.17 |\n",
       "| page_views | -0.01 | -0.32 |  0.79 |  1.00 |  0.73 |  0.56 |  0.12 | -0.03 |  0.00 |  0.02 |  0.51 |  0.19 |\n",
       "| fpl_value | -0.04 | -0.51 |  0.81 |  0.73 |  1.00 |  0.66 |  0.19 |  0.10 |  0.00 |  0.05 |  0.47 |  0.14 |\n",
       "| fpl_points |  0.21 | -0.18 |  0.60 |  0.56 |  0.66 |  1.00 |  0.02 | -0.24 |  0.23 |  0.11 |  0.26 |  0.11 |\n",
       "| region |  0.11 | -0.14 |  0.18 |  0.12 |  0.19 |  0.02 |  1.00 |  0.05 |  0.13 |  0.15 |  0.14 |  0.21 |\n",
       "| new_foreign | -0.13 |  0.01 |  0.12 | -0.03 |  0.10 | -0.24 |  0.05 |  1.00 | -0.11 | -0.10 |  0.17 | -0.09 |\n",
       "| age_cat |  0.97 |  0.16 | -0.09 |  0.00 |  0.00 |  0.23 |  0.13 | -0.11 |  1.00 | -0.08 | -0.14 | -0.12 |\n",
       "| club_id | -0.07 | -0.07 |  0.08 |  0.02 |  0.05 |  0.11 |  0.15 | -0.10 | -0.08 |  1.00 | -0.03 |  0.18 |\n",
       "| big_club | -0.14 | -0.03 |  0.64 |  0.51 |  0.47 |  0.26 |  0.14 |  0.17 | -0.14 | -0.03 |  1.00 |  0.05 |\n",
       "| new_signing | -0.10 | -0.10 |  0.17 |  0.19 |  0.14 |  0.11 |  0.21 | -0.09 | -0.12 |  0.18 |  0.05 |  1.00 |\n",
       "\n"
      ],
      "text/plain": [
       "             age   position_cat market_value page_views fpl_value fpl_points\n",
       "age           1.00  0.17        -0.10        -0.01      -0.04      0.21     \n",
       "position_cat  0.17  1.00        -0.24        -0.32      -0.51     -0.18     \n",
       "market_value -0.10 -0.24         1.00         0.79       0.81      0.60     \n",
       "page_views   -0.01 -0.32         0.79         1.00       0.73      0.56     \n",
       "fpl_value    -0.04 -0.51         0.81         0.73       1.00      0.66     \n",
       "fpl_points    0.21 -0.18         0.60         0.56       0.66      1.00     \n",
       "region        0.11 -0.14         0.18         0.12       0.19      0.02     \n",
       "new_foreign  -0.13  0.01         0.12        -0.03       0.10     -0.24     \n",
       "age_cat       0.97  0.16        -0.09         0.00       0.00      0.23     \n",
       "club_id      -0.07 -0.07         0.08         0.02       0.05      0.11     \n",
       "big_club     -0.14 -0.03         0.64         0.51       0.47      0.26     \n",
       "new_signing  -0.10 -0.10         0.17         0.19       0.14      0.11     \n",
       "             region new_foreign age_cat club_id big_club new_signing\n",
       "age           0.11  -0.13        0.97   -0.07   -0.14    -0.10      \n",
       "position_cat -0.14   0.01        0.16   -0.07   -0.03    -0.10      \n",
       "market_value  0.18   0.12       -0.09    0.08    0.64     0.17      \n",
       "page_views    0.12  -0.03        0.00    0.02    0.51     0.19      \n",
       "fpl_value     0.19   0.10        0.00    0.05    0.47     0.14      \n",
       "fpl_points    0.02  -0.24        0.23    0.11    0.26     0.11      \n",
       "region        1.00   0.05        0.13    0.15    0.14     0.21      \n",
       "new_foreign   0.05   1.00       -0.11   -0.10    0.17    -0.09      \n",
       "age_cat       0.13  -0.11        1.00   -0.08   -0.14    -0.12      \n",
       "club_id       0.15  -0.10       -0.08    1.00   -0.03     0.18      \n",
       "big_club      0.14   0.17       -0.14   -0.03    1.00     0.05      \n",
       "new_signing   0.21  -0.09       -0.12    0.18    0.05     1.00      "
      ]
     },
     "metadata": {},
     "output_type": "display_data"
    }
   ],
   "source": [
    "num.cols1 <- sapply(test,is.numeric)\n",
    "num.cols1\n",
    "cor.data1=cor(test[,num.cols1])\n",
    "round(cor.data1,2)"
   ]
  },
  {
   "cell_type": "code",
   "execution_count": 34,
   "metadata": {},
   "outputs": [
    {
     "name": "stderr",
     "output_type": "stream",
     "text": [
      "Warning message:\n",
      "\"package 'corrgram' was built under R version 3.6.2\"Registered S3 method overwritten by 'seriation':\n",
      "  method         from \n",
      "  reorder.hclust gclus\n",
      "Warning message:\n",
      "\"package 'corrplot' was built under R version 3.6.2\"corrplot 0.84 loaded\n"
     ]
    },
    {
     "data": {
      "image/png": "[encoded data removed]",
      "text/plain": [
       "Plot with title \"\""
      ]
     },
     "metadata": {},
     "output_type": "display_data"
    }
   ],
   "source": [
    "library(corrgram)\n",
    "library(corrplot)\n",
    "corrplot(cor.data1,method='color')"
   ]
  },
  {
   "cell_type": "code",
   "execution_count": 66,
   "metadata": {},
   "outputs": [
    {
     "data": {
      "text/plain": [
       "\n",
       "Call:\n",
       "lm(formula = market_value ~ page_views + fpl_value + fpl_points + \n",
       "    big_club + age + position, data = train)\n",
       "\n",
       "Residuals:\n",
       "     Min       1Q   Median       3Q      Max \n",
       "-16.9222  -3.5167  -0.3186   2.9786  23.7707 \n",
       "\n",
       "Coefficients:\n",
       "              Estimate Std. Error t value Pr(>|t|)    \n",
       "(Intercept) -1.558e+01  4.188e+00  -3.721 0.000236 ***\n",
       "page_views   2.200e-03  6.014e-04   3.658 0.000299 ***\n",
       "fpl_value    5.548e+00  5.183e-01  10.706  < 2e-16 ***\n",
       "fpl_points   3.457e-02  8.783e-03   3.936 0.000102 ***\n",
       "big_club     4.902e+00  8.658e-01   5.662 3.43e-08 ***\n",
       "age         -3.127e-01  8.901e-02  -3.513 0.000509 ***\n",
       "positionCB   1.627e+00  1.929e+00   0.843 0.399704    \n",
       "positionCF  -6.074e+00  1.810e+00  -3.356 0.000889 ***\n",
       "positionCM   6.697e-01  1.910e+00   0.351 0.726159    \n",
       "positionDM   5.539e+00  2.165e+00   2.558 0.011004 *  \n",
       "positionGK   1.463e+00  2.095e+00   0.698 0.485466    \n",
       "positionLB   2.145e-01  2.067e+00   0.104 0.917430    \n",
       "positionLM  -2.783e+00  2.777e+00  -1.002 0.317045    \n",
       "positionLW  -2.720e+00  1.989e+00  -1.367 0.172566    \n",
       "positionRB   2.270e-01  2.144e+00   0.106 0.915749    \n",
       "positionRM  -2.393e+00  3.077e+00  -0.778 0.437276    \n",
       "positionRW  -1.477e+00  2.027e+00  -0.729 0.466854    \n",
       "positionSS  -1.034e+01  3.141e+00  -3.292 0.001109 ** \n",
       "---\n",
       "Signif. codes:  0 '***' 0.001 '**' 0.01 '*' 0.05 '.' 0.1 ' ' 1\n",
       "\n",
       "Residual standard error: 5.797 on 308 degrees of freedom\n",
       "Multiple R-squared:  0.783,\tAdjusted R-squared:  0.7711 \n",
       "F-statistic: 65.39 on 17 and 308 DF,  p-value: < 2.2e-16\n"
      ]
     },
     "metadata": {},
     "output_type": "display_data"
    },
    {
     "data": {
      "text/html": [
       "<table>\n",
       "<thead><tr><th></th><th scope=col>res</th></tr></thead>\n",
       "<tbody>\n",
       "\t<tr><th scope=row>1</th><td>  1.927368</td></tr>\n",
       "\t<tr><th scope=row>3</th><td>-11.348288</td></tr>\n",
       "\t<tr><th scope=row>6</th><td>  6.245694</td></tr>\n",
       "\t<tr><th scope=row>7</th><td> -7.939768</td></tr>\n",
       "\t<tr><th scope=row>8</th><td> -2.550905</td></tr>\n",
       "\t<tr><th scope=row>9</th><td>  9.116445</td></tr>\n",
       "</tbody>\n",
       "</table>\n"
      ],
      "text/latex": [
       "\\begin{tabular}{r|l}\n",
       "  & res\\\\\n",
       "\\hline\n",
       "\t1 &   1.927368\\\\\n",
       "\t3 & -11.348288\\\\\n",
       "\t6 &   6.245694\\\\\n",
       "\t7 &  -7.939768\\\\\n",
       "\t8 &  -2.550905\\\\\n",
       "\t9 &   9.116445\\\\\n",
       "\\end{tabular}\n"
      ],
      "text/markdown": [
       "\n",
       "| <!--/--> | res |\n",
       "|---|---|\n",
       "| 1 |   1.927368 |\n",
       "| 3 | -11.348288 |\n",
       "| 6 |   6.245694 |\n",
       "| 7 |  -7.939768 |\n",
       "| 8 |  -2.550905 |\n",
       "| 9 |   9.116445 |\n",
       "\n"
      ],
      "text/plain": [
       "  res       \n",
       "1   1.927368\n",
       "3 -11.348288\n",
       "6   6.245694\n",
       "7  -7.939768\n",
       "8  -2.550905\n",
       "9   9.116445"
      ]
     },
     "metadata": {},
     "output_type": "display_data"
    }
   ],
   "source": [
    "model1 <- lm(market_value ~page_views+fpl_value+fpl_points+big_club+age+position,train)\n",
    "summary(model1)\n",
    "res=residuals(model1)\n",
    "res=as.data.frame(res)\n",
    "head(res)"
   ]
  },
  {
   "cell_type": "code",
   "execution_count": 67,
   "metadata": {},
   "outputs": [
    {
     "name": "stderr",
     "output_type": "stream",
     "text": [
      "`stat_bin()` using `bins = 30`. Pick better value with `binwidth`.\n"
     ]
    },
    {
     "data": {
      "image/png": "[encoded data removed]",
      "text/plain": [
       "plot without title"
      ]
     },
     "metadata": {},
     "output_type": "display_data"
    }
   ],
   "source": [
    "ggplot(res,aes(res))+geom_histogram(fill='blue',alpha=0.5)"
   ]
  },
  {
   "cell_type": "code",
   "execution_count": 68,
   "metadata": {},
   "outputs": [
    {
     "data": {
      "text/html": [
       "<table>\n",
       "<thead><tr><th></th><th scope=col>pred</th><th scope=col>real</th></tr></thead>\n",
       "<tbody>\n",
       "\t<tr><th scope=row>2</th><td>48.713228</td><td>50       </td></tr>\n",
       "\t<tr><th scope=row>4</th><td>30.180111</td><td>20       </td></tr>\n",
       "\t<tr><th scope=row>5</th><td>20.730112</td><td>22       </td></tr>\n",
       "\t<tr><th scope=row>10</th><td>17.610533</td><td>10       </td></tr>\n",
       "\t<tr><th scope=row>25</th><td> 7.997978</td><td> 5       </td></tr>\n",
       "\t<tr><th scope=row>27</th><td>16.676907</td><td>15       </td></tr>\n",
       "</tbody>\n",
       "</table>\n"
      ],
      "text/latex": [
       "\\begin{tabular}{r|ll}\n",
       "  & pred & real\\\\\n",
       "\\hline\n",
       "\t2 & 48.713228 & 50       \\\\\n",
       "\t4 & 30.180111 & 20       \\\\\n",
       "\t5 & 20.730112 & 22       \\\\\n",
       "\t10 & 17.610533 & 10       \\\\\n",
       "\t25 &  7.997978 &  5       \\\\\n",
       "\t27 & 16.676907 & 15       \\\\\n",
       "\\end{tabular}\n"
      ],
      "text/markdown": [
       "\n",
       "| <!--/--> | pred | real |\n",
       "|---|---|---|\n",
       "| 2 | 48.713228 | 50        |\n",
       "| 4 | 30.180111 | 20        |\n",
       "| 5 | 20.730112 | 22        |\n",
       "| 10 | 17.610533 | 10        |\n",
       "| 25 |  7.997978 |  5        |\n",
       "| 27 | 16.676907 | 15        |\n",
       "\n"
      ],
      "text/plain": [
       "   pred      real\n",
       "2  48.713228 50  \n",
       "4  30.180111 20  \n",
       "5  20.730112 22  \n",
       "10 17.610533 10  \n",
       "25  7.997978  5  \n",
       "27 16.676907 15  "
      ]
     },
     "metadata": {},
     "output_type": "display_data"
    }
   ],
   "source": [
    "pre3<-predict(model1,test)\n",
    "r=cbind(pre3,test$market_value)\n",
    "colnames(r)=c('pred','real')\n",
    "r=as.data.frame(r)\n",
    "head(r)"
   ]
  },
  {
   "cell_type": "code",
   "execution_count": 69,
   "metadata": {},
   "outputs": [
    {
     "data": {
      "text/html": [
       "<table>\n",
       "<thead><tr><th></th><th scope=col>res</th></tr></thead>\n",
       "<tbody>\n",
       "\t<tr><th scope=row>1</th><td>  1.927368</td></tr>\n",
       "\t<tr><th scope=row>3</th><td>-11.348288</td></tr>\n",
       "\t<tr><th scope=row>6</th><td>  6.245694</td></tr>\n",
       "\t<tr><th scope=row>7</th><td> -7.939768</td></tr>\n",
       "\t<tr><th scope=row>8</th><td> -2.550905</td></tr>\n",
       "\t<tr><th scope=row>9</th><td>  9.116445</td></tr>\n",
       "</tbody>\n",
       "</table>\n"
      ],
      "text/latex": [
       "\\begin{tabular}{r|l}\n",
       "  & res\\\\\n",
       "\\hline\n",
       "\t1 &   1.927368\\\\\n",
       "\t3 & -11.348288\\\\\n",
       "\t6 &   6.245694\\\\\n",
       "\t7 &  -7.939768\\\\\n",
       "\t8 &  -2.550905\\\\\n",
       "\t9 &   9.116445\\\\\n",
       "\\end{tabular}\n"
      ],
      "text/markdown": [
       "\n",
       "| <!--/--> | res |\n",
       "|---|---|\n",
       "| 1 |   1.927368 |\n",
       "| 3 | -11.348288 |\n",
       "| 6 |   6.245694 |\n",
       "| 7 |  -7.939768 |\n",
       "| 8 |  -2.550905 |\n",
       "| 9 |   9.116445 |\n",
       "\n"
      ],
      "text/plain": [
       "  res       \n",
       "1   1.927368\n",
       "3 -11.348288\n",
       "6   6.245694\n",
       "7  -7.939768\n",
       "8  -2.550905\n",
       "9   9.116445"
      ]
     },
     "metadata": {},
     "output_type": "display_data"
    },
    {
     "name": "stdout",
     "output_type": "stream",
     "text": [
      "[1] 30.74893\n"
     ]
    },
    {
     "data": {
      "text/html": [
       "5.54517209587461"
      ],
      "text/latex": [
       "5.54517209587461"
      ],
      "text/markdown": [
       "5.54517209587461"
      ],
      "text/plain": [
       "[1] 5.545172"
      ]
     },
     "metadata": {},
     "output_type": "display_data"
    },
    {
     "data": {
      "text/html": [
       "0.806055666793091"
      ],
      "text/latex": [
       "0.806055666793091"
      ],
      "text/markdown": [
       "0.806055666793091"
      ],
      "text/plain": [
       "[1] 0.8060557"
      ]
     },
     "metadata": {},
     "output_type": "display_data"
    }
   ],
   "source": [
    "to_zero=function(x){\n",
    "    if (x<0){\n",
    "        return(0)\n",
    "    }else{\n",
    "        return(x)\n",
    "    }\n",
    "}\n",
    "r$pred=sapply(r$pred,to_zero)\n",
    "head(res)\n",
    "mse1=mean((r$real-r$pred)^2)\n",
    "print(mse1)\n",
    "mse1^0.5\n",
    "SSE=sum((r$pred-r$real)^2)\n",
    "SST=sum((mean(test$market_value)-r$real)^2)\n",
    "R2=1-SSE/SST\n",
    "R2"
   ]
  },
  {
   "cell_type": "code",
   "execution_count": null,
   "metadata": {},
   "outputs": [],
   "source": []
  }
 ],
 "metadata": {
  "kernelspec": {
   "display_name": "R",
   "language": "R",
   "name": "ir"
  },
  "language_info": {
   "codemirror_mode": "r",
   "file_extension": ".r",
   "mimetype": "text/x-r-source",
   "name": "R",
   "pygments_lexer": "r",
   "version": "3.6.1"
  }
 },
 "nbformat": 4,
 "nbformat_minor": 4
}
